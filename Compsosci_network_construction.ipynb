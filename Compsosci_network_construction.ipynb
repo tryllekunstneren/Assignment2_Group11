{
 "cells": [
  {
   "cell_type": "code",
   "execution_count": 2,
   "metadata": {},
   "outputs": [
    {
     "name": "stdout",
     "output_type": "stream",
     "text": [
      "Graph created with only collaborations.\n",
      "Number of nodes: 26463\n",
      "Number of edges: 76236\n"
     ]
    }
   ],
   "source": [
    "import pandas as pd\n",
    "import networkx as nx\n",
    "import itertools\n",
    "\n",
    "# ---------------------------\n",
    "# Step 1: Load the dataset\n",
    "# ---------------------------\n",
    "# Load the papers dataset (ensure the CSV file is in your working directory)\n",
    "papers_df = pd.read_csv(\"final_papers.csv\")\n",
    "\n",
    "# ---------------------------\n",
    "# Step 2: Create the weighted edgelist\n",
    "# ---------------------------\n",
    "# This dictionary will store each unique pair of authors and count their co-authored papers.\n",
    "edge_weights = {}\n",
    "\n",
    "# Assuming the 'authors' column contains a comma-separated string of author IDs\n",
    "for _, row in papers_df.iterrows():\n",
    "    # Split and clean the authors list from the string\n",
    "    authors = [a.strip() for a in row['author_ids'].split(\",\") if a.strip() != \"\"]\n",
    "    \n",
    "    # For every unique pair of authors, update the count of collaborations\n",
    "    for author1, author2 in itertools.combinations(authors, 2):\n",
    "        # Sort the pair to maintain consistency (e.g., (A, B) is the same as (B, A))\n",
    "        pair = tuple(sorted((author1, author2)))\n",
    "        edge_weights[pair] = edge_weights.get(pair, 0) + 1\n",
    "\n",
    "# Convert the dictionary into a weighted edgelist (list of tuples: (author1, author2, weight))\n",
    "weighted_edgelist = [(u, v, weight) for (u, v), weight in edge_weights.items()]\n",
    "\n",
    "# ---------------------------\n",
    "# Step 3: Construct the undirected graph\n",
    "# ---------------------------\n",
    "# Create an undirected NetworkX graph and add weighted edges from the edgelist.\n",
    "G = nx.Graph()\n",
    "G.add_weighted_edges_from(weighted_edgelist)\n",
    "\n",
    "print(\"Graph created with only collaborations.\")\n",
    "print(\"Number of nodes:\", G.number_of_nodes())\n",
    "print(\"Number of edges:\", G.number_of_edges())\n"
   ]
  }
 ],
 "metadata": {
  "kernelspec": {
   "display_name": "Python 3",
   "language": "python",
   "name": "python3"
  },
  "language_info": {
   "codemirror_mode": {
    "name": "ipython",
    "version": 3
   },
   "file_extension": ".py",
   "mimetype": "text/x-python",
   "name": "python",
   "nbconvert_exporter": "python",
   "pygments_lexer": "ipython3",
   "version": "3.11.5"
  }
 },
 "nbformat": 4,
 "nbformat_minor": 2
}
